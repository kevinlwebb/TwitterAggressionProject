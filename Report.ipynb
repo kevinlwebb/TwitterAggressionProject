{
 "cells": [
  {
   "cell_type": "markdown",
   "metadata": {},
   "source": [
    "# Table of Contents\n",
    "- [Project Definition](#Project-Definition)\n",
    "  - [Project Overview](#Project-Overview)\n",
    "  - [Problem Statement](#Problem-Statement)\n",
    "  - [Metrics](#Metrics)\n",
    "- [Analysis](#Analysis)\n",
    "- [Methodology](#Methodology)\n",
    "  - [Data Preprocessing](#Data-Preprocessing)\n",
    "  - [Implementation](#Implementation)\n",
    "  - [Refinement](#Refinement)\n",
    "- [Conclusion](#Conclusion)\n",
    "- [Future Work](#Future-Work)\n",
    "- [Guides](#Guides)\n",
    "- [Notes](#Notes)"
   ]
  },
  {
   "cell_type": "markdown",
   "metadata": {},
   "source": [
    "# Project Definition"
   ]
  },
  {
   "attachments": {},
   "cell_type": "markdown",
   "metadata": {},
   "source": [
    "### Project Overview\n",
    "\n",
    "Bullying has evolved to cyberbullying through the medium of the Internet and online social networks, and with the power of the Internet, online bullies can be illusive and more direct. According to [i-SAFE]( https://auth.isafe.org/outreach/media/media_cyber_bullying\n",
    "), 42% of kids have been bullied while online, and 58% have not told their parents or an adult about something mean or hurtful that happened to them online. With machine learning, programmers are able to create solutions that can detect cyberbullying to a certain degree.\n",
    "\n",
    "In this project, I created a Python Flask web application that classifies a tweet (including hashtags) between good or bad. The model is trained on a dataset of classified Tweets from [Dataturks through Kaggle](https://www.kaggle.com/dataturks/dataset-for-detection-of-cybertrolls) and utilizes the combination of Bag of Words and TF-IDF to focus on the frequency of individual words. "
   ]
  },
  {
   "attachments": {},
   "cell_type": "markdown",
   "metadata": {},
   "source": [
    "### Problem Statement\n",
    "\n",
    "The goal is to create a web application that detects cyberbullying\n",
    "\n",
    "The steps involved are the following:\n",
    "1. Download and preprocess the labeled JSON Tweet data\n",
    "2. Train a classifier that can determine if a Tweet is good or bad\n",
    "3. Deploy application\n",
    "4. User inputs tweet\n",
    "5. Application displays classification\n",
    "\n",
    "The application can help adults classify ambiguous tweets that may carry different meanings."
   ]
  },
  {
   "cell_type": "markdown",
   "metadata": {},
   "source": [
    "### Metrics\n",
    "\n",
    "The confusion matrix is a specific table layout that allows visualization of the performance of an algorithm. In this case, it will display the count of true negatives, false negatives, true positives, and false positives from the predictions of our model compared to the true values.\n",
    "\n",
    "<img src=\"imgs/confmatrix.png\" alt=\"Confusion Matrix\" style=\"width: 700px;\"/>\n",
    "\n",
    "Accuracy is one metric for evaluating classification models. It is the ratio of number of correct predictions to the total number of input samples.\n",
    "\n",
    "${\\displaystyle \\mathrm {accuracy} ={\\frac {\\mathrm {TP} +\\mathrm {TN} }{\\mathrm {P} +\\mathrm {N} }}={\\frac {\\mathrm {TP} +\\mathrm {TN} }{\\mathrm {TP} +\\mathrm {TN} +\\mathrm {FP} +\\mathrm {FN} }}}$"
   ]
  },
  {
   "cell_type": "markdown",
   "metadata": {},
   "source": [
    "# Analysis"
   ]
  },
  {
   "cell_type": "markdown",
   "metadata": {},
   "source": [
    "Some additional analysis has been done on Kaggle:\n",
    "<br>https://www.kaggle.com/kevinlwebb/cybertrolls-exploration-and-ml"
   ]
  },
  {
   "cell_type": "code",
   "execution_count": 1,
   "metadata": {},
   "outputs": [
    {
     "name": "stderr",
     "output_type": "stream",
     "text": [
      "[nltk_data] Downloading package stopwords to\n",
      "[nltk_data]     /Users/kevinwebb/nltk_data...\n",
      "[nltk_data]   Package stopwords is already up-to-date!\n",
      "[nltk_data] Downloading package punkt to /Users/kevinwebb/nltk_data...\n",
      "[nltk_data]   Package punkt is already up-to-date!\n",
      "[nltk_data] Downloading package wordnet to\n",
      "[nltk_data]     /Users/kevinwebb/nltk_data...\n",
      "[nltk_data]   Package wordnet is already up-to-date!\n"
     ]
    }
   ],
   "source": [
    "import pandas as pd\n",
    "import numpy as np\n",
    "import matplotlib.pyplot as plt\n",
    "%matplotlib inline\n",
    "\n",
    "import warnings\n",
    "warnings.filterwarnings(\"ignore\")\n",
    "\n",
    "from sqlalchemy import create_engine\n",
    "from joblib import dump, load\n",
    "\n",
    "import re\n",
    "import nltk\n",
    "\n",
    "nltk.download('stopwords')\n",
    "nltk.download('punkt')\n",
    "nltk.download('wordnet')\n",
    "\n",
    "from sklearn.model_selection import train_test_split\n",
    "from sklearn.model_selection import learning_curve\n",
    "from nltk.corpus import stopwords\n",
    "from nltk.stem import WordNetLemmatizer\n",
    "from nltk.tokenize import word_tokenize"
   ]
  },
  {
   "cell_type": "code",
   "execution_count": 2,
   "metadata": {},
   "outputs": [],
   "source": [
    "def tokenize(text):\n",
    "    tokens = word_tokenize(text)\n",
    "    lemmatizer = WordNetLemmatizer()\n",
    "\n",
    "    clean_tokens = []\n",
    "    for tok in tokens:\n",
    "        clean_tok = lemmatizer.lemmatize(tok).lower().strip()\n",
    "        clean_tokens.append(clean_tok)\n",
    "\n",
    "    return clean_tokens"
   ]
  },
  {
   "cell_type": "code",
   "execution_count": 3,
   "metadata": {},
   "outputs": [],
   "source": [
    "# load data\n",
    "engine = create_engine('sqlite:///data/TweetSentiment.db')\n",
    "df = pd.read_sql_table('tweets', engine)\n",
    "\n",
    "# load model\n",
    "model = load(\"models/classifier.pkl\")"
   ]
  },
  {
   "cell_type": "code",
   "execution_count": 4,
   "metadata": {},
   "outputs": [
    {
     "data": {
      "text/html": [
       "<div>\n",
       "<style scoped>\n",
       "    .dataframe tbody tr th:only-of-type {\n",
       "        vertical-align: middle;\n",
       "    }\n",
       "\n",
       "    .dataframe tbody tr th {\n",
       "        vertical-align: top;\n",
       "    }\n",
       "\n",
       "    .dataframe thead th {\n",
       "        text-align: right;\n",
       "    }\n",
       "</style>\n",
       "<table border=\"1\" class=\"dataframe\">\n",
       "  <thead>\n",
       "    <tr style=\"text-align: right;\">\n",
       "      <th></th>\n",
       "      <th>cleaned_tweet</th>\n",
       "      <th>label</th>\n",
       "    </tr>\n",
       "  </thead>\n",
       "  <tbody>\n",
       "    <tr>\n",
       "      <th>0</th>\n",
       "      <td>Get fucking real dude.</td>\n",
       "      <td>1</td>\n",
       "    </tr>\n",
       "    <tr>\n",
       "      <th>1</th>\n",
       "      <td>She is as dirty as they come  and that crook ...</td>\n",
       "      <td>1</td>\n",
       "    </tr>\n",
       "    <tr>\n",
       "      <th>2</th>\n",
       "      <td>why did you fuck it up. I could do it all day...</td>\n",
       "      <td>1</td>\n",
       "    </tr>\n",
       "    <tr>\n",
       "      <th>3</th>\n",
       "      <td>Dude they dont finish enclosing the fucking s...</td>\n",
       "      <td>1</td>\n",
       "    </tr>\n",
       "    <tr>\n",
       "      <th>4</th>\n",
       "      <td>WTF are you talking about Men? No men thats n...</td>\n",
       "      <td>1</td>\n",
       "    </tr>\n",
       "  </tbody>\n",
       "</table>\n",
       "</div>"
      ],
      "text/plain": [
       "                                       cleaned_tweet label\n",
       "0                             Get fucking real dude.     1\n",
       "1   She is as dirty as they come  and that crook ...     1\n",
       "2   why did you fuck it up. I could do it all day...     1\n",
       "3   Dude they dont finish enclosing the fucking s...     1\n",
       "4   WTF are you talking about Men? No men thats n...     1"
      ]
     },
     "execution_count": 4,
     "metadata": {},
     "output_type": "execute_result"
    }
   ],
   "source": [
    "df.head()"
   ]
  },
  {
   "cell_type": "code",
   "execution_count": 5,
   "metadata": {},
   "outputs": [
    {
     "data": {
      "text/html": [
       "<div>\n",
       "<style scoped>\n",
       "    .dataframe tbody tr th:only-of-type {\n",
       "        vertical-align: middle;\n",
       "    }\n",
       "\n",
       "    .dataframe tbody tr th {\n",
       "        vertical-align: top;\n",
       "    }\n",
       "\n",
       "    .dataframe thead th {\n",
       "        text-align: right;\n",
       "    }\n",
       "</style>\n",
       "<table border=\"1\" class=\"dataframe\">\n",
       "  <thead>\n",
       "    <tr style=\"text-align: right;\">\n",
       "      <th></th>\n",
       "      <th>cleaned_tweet</th>\n",
       "    </tr>\n",
       "    <tr>\n",
       "      <th>label</th>\n",
       "      <th></th>\n",
       "    </tr>\n",
       "  </thead>\n",
       "  <tbody>\n",
       "    <tr>\n",
       "      <th>0</th>\n",
       "      <td>12179</td>\n",
       "    </tr>\n",
       "    <tr>\n",
       "      <th>1</th>\n",
       "      <td>7822</td>\n",
       "    </tr>\n",
       "  </tbody>\n",
       "</table>\n",
       "</div>"
      ],
      "text/plain": [
       "       cleaned_tweet\n",
       "label               \n",
       "0              12179\n",
       "1               7822"
      ]
     },
     "execution_count": 5,
     "metadata": {},
     "output_type": "execute_result"
    }
   ],
   "source": [
    "df.groupby(\"label\").count()"
   ]
  },
  {
   "cell_type": "code",
   "execution_count": 6,
   "metadata": {},
   "outputs": [
    {
     "name": "stdout",
     "output_type": "stream",
     "text": [
      "Percent of bad tweets: 39.10804459777012\n",
      "Percent of good tweets: 60.89195540222989\n"
     ]
    }
   ],
   "source": [
    "bad_per = (len(df[df.label == '1']) / len(df)) * 100\n",
    "print(\"Percent of bad tweets: {}\".format(bad_per))\n",
    "\n",
    "good_per = (len(df[df.label == '0']) / len(df)) * 100\n",
    "print(\"Percent of good tweets: {}\".format(good_per))"
   ]
  },
  {
   "cell_type": "markdown",
   "metadata": {},
   "source": [
    "A good distribution between the two labels. An imbalanced classification problem involves predicting a label where the distribution of labels in the training dataset is not relatively equal. The original dataset was switched to a more distributed dataset, but if I continued with the original dataset, one approach to addressing the imbalanced dataset was to oversample the minority class."
   ]
  },
  {
   "cell_type": "code",
   "execution_count": 7,
   "metadata": {},
   "outputs": [],
   "source": [
    "sw = stopwords.words(\"english\")\n",
    "text = df.cleaned_tweet.str.cat(sep=' ')\n",
    "text = re.sub(r\"[^a-zA-Z0-9]\", \" \", text.lower())\n",
    "str_list = text.split(\" \")\n",
    "s = pd.Series(str_list)\n",
    "s = s[s != \"\"]\n",
    "s = s[~s.isin(sw)]\n",
    "\n",
    "top_10 = s.value_counts()[:10]\n",
    "word_counts = s.value_counts()[:10].tolist()\n",
    "word_names = s.value_counts()[:10].index.tolist()"
   ]
  },
  {
   "cell_type": "code",
   "execution_count": 8,
   "metadata": {},
   "outputs": [
    {
     "data": {
      "image/png": "[encoded data removed]",
      "text/plain": [
       "<Figure size 432x288 with 1 Axes>"
      ]
     },
     "metadata": {
      "needs_background": "light"
     },
     "output_type": "display_data"
    }
   ],
   "source": [
    "x = word_names\n",
    "y = word_counts\n",
    "plt.bar(x, y)\n",
    "plt.ylabel('Frequency')\n",
    "plt.ylabel('Words')\n",
    "plt.suptitle('Top 10 General Words')\n",
    "plt.show()"
   ]
  },
  {
   "cell_type": "code",
   "execution_count": 9,
   "metadata": {},
   "outputs": [],
   "source": [
    "text = df[df.label == '1'].cleaned_tweet.str.cat(sep=' ')\n",
    "text = re.sub(r\"[^a-zA-Z0-9]\", \" \", text.lower())\n",
    "str_list = text.split(\" \")\n",
    "s = pd.Series(str_list)\n",
    "s = s[s != \"\"]\n",
    "s = s[~s.isin(sw)]\n",
    "\n",
    "bad_top_10 = s.value_counts()[:10]\n",
    "bad_word_counts = s.value_counts()[:10].tolist()\n",
    "bad_word_names = s.value_counts()[:10].index.tolist()"
   ]
  },
  {
   "cell_type": "code",
   "execution_count": 10,
   "metadata": {},
   "outputs": [
    {
     "data": {
      "image/png": "[encoded data removed]",
      "text/plain": [
       "<Figure size 432x288 with 1 Axes>"
      ]
     },
     "metadata": {
      "needs_background": "light"
     },
     "output_type": "display_data"
    }
   ],
   "source": [
    "x = bad_word_names\n",
    "y = bad_word_counts\n",
    "plt.bar(x, y)\n",
    "plt.ylabel('Frequency')\n",
    "plt.ylabel('Words')\n",
    "plt.suptitle('Top 10 Bad Words')\n",
    "plt.show()"
   ]
  },
  {
   "cell_type": "code",
   "execution_count": 11,
   "metadata": {},
   "outputs": [],
   "source": [
    "text = df[df.label == '0'].cleaned_tweet.str.cat(sep=' ')\n",
    "text = re.sub(r\"[^a-zA-Z0-9]\", \" \", text.lower())\n",
    "str_list = text.split(\" \")\n",
    "s = pd.Series(str_list)\n",
    "s = s[s != \"\"]\n",
    "s = s[~s.isin(sw)]\n",
    "\n",
    "good_top_10 = s.value_counts()[:10]\n",
    "good_word_counts = s.value_counts()[:10].tolist()\n",
    "good_word_names = s.value_counts()[:10].index.tolist()"
   ]
  },
  {
   "cell_type": "code",
   "execution_count": 12,
   "metadata": {},
   "outputs": [
    {
     "data": {
      "image/png": "[encoded data removed]",
      "text/plain": [
       "<Figure size 432x288 with 1 Axes>"
      ]
     },
     "metadata": {
      "needs_background": "light"
     },
     "output_type": "display_data"
    }
   ],
   "source": [
    "x = good_word_names\n",
    "y = good_word_counts\n",
    "plt.bar(x, y)\n",
    "plt.ylabel('Frequency')\n",
    "plt.ylabel('Words')\n",
    "plt.suptitle('Top 10 Good Words')\n",
    "plt.show()"
   ]
  },
  {
   "cell_type": "markdown",
   "metadata": {},
   "source": [
    "Despite having a balanced dataset in terms of the labels, traditionally bad words like 'hate' are still found in the labelled 'good' half of the dataset. Since the model is mainly looking at the frequency of words, the model will have a hard time classifying without understanding context."
   ]
  },
  {
   "cell_type": "code",
   "execution_count": 13,
   "metadata": {},
   "outputs": [],
   "source": [
    "def plot_learning_curve(estimator, title, X, y, axes=None, ylim=None, cv=None,\n",
    "                        n_jobs=None, train_sizes=np.linspace(.1, 1.0, 5)):\n",
    "    \"\"\"\n",
    "    Generate 3 plots: the test and training learning curve, the training\n",
    "    samples vs fit times curve, the fit times vs score curve.\n",
    "\n",
    "    Parameters\n",
    "    ----------\n",
    "    estimator : object type that implements the \"fit\" and \"predict\" methods\n",
    "        An object of that type which is cloned for each validation.\n",
    "\n",
    "    title : string\n",
    "        Title for the chart.\n",
    "\n",
    "    X : array-like, shape (n_samples, n_features)\n",
    "        Training vector, where n_samples is the number of samples and\n",
    "        n_features is the number of features.\n",
    "\n",
    "    y : array-like, shape (n_samples) or (n_samples, n_features), optional\n",
    "        Target relative to X for classification or regression;\n",
    "        None for unsupervised learning.\n",
    "\n",
    "    axes : array of 3 axes, optional (default=None)\n",
    "        Axes to use for plotting the curves.\n",
    "\n",
    "    ylim : tuple, shape (ymin, ymax), optional\n",
    "        Defines minimum and maximum yvalues plotted.\n",
    "\n",
    "    cv : int, cross-validation generator or an iterable, optional\n",
    "        Determines the cross-validation splitting strategy.\n",
    "        Possible inputs for cv are:\n",
    "          - None, to use the default 5-fold cross-validation,\n",
    "          - integer, to specify the number of folds.\n",
    "          - :term:`CV splitter`,\n",
    "          - An iterable yielding (train, test) splits as arrays of indices.\n",
    "\n",
    "        For integer/None inputs, if ``y`` is binary or multiclass,\n",
    "        :class:`StratifiedKFold` used. If the estimator is not a classifier\n",
    "        or if ``y`` is neither binary nor multiclass, :class:`KFold` is used.\n",
    "\n",
    "        Refer :ref:`User Guide <cross_validation>` for the various\n",
    "        cross-validators that can be used here.\n",
    "\n",
    "    n_jobs : int or None, optional (default=None)\n",
    "        Number of jobs to run in parallel.\n",
    "        ``None`` means 1 unless in a :obj:`joblib.parallel_backend` context.\n",
    "        ``-1`` means using all processors. See :term:`Glossary <n_jobs>`\n",
    "        for more details.\n",
    "\n",
    "    train_sizes : array-like, shape (n_ticks,), dtype float or int\n",
    "        Relative or absolute numbers of training examples that will be used to\n",
    "        generate the learning curve. If the dtype is float, it is regarded as a\n",
    "        fraction of the maximum size of the training set (that is determined\n",
    "        by the selected validation method), i.e. it has to be within (0, 1].\n",
    "        Otherwise it is interpreted as absolute sizes of the training sets.\n",
    "        Note that for classification the number of samples usually have to\n",
    "        be big enough to contain at least one sample from each class.\n",
    "        (default: np.linspace(0.1, 1.0, 5))\n",
    "    \"\"\"\n",
    "    if axes is None:\n",
    "        _, axes = plt.subplots(1, 3, figsize=(20, 5))\n",
    "\n",
    "    axes[0].set_title(title)\n",
    "    if ylim is not None:\n",
    "        axes[0].set_ylim(*ylim)\n",
    "    axes[0].set_xlabel(\"Training examples\")\n",
    "    axes[0].set_ylabel(\"Score\")\n",
    "\n",
    "    train_sizes, train_scores, test_scores, fit_times, _ = \\\n",
    "        learning_curve(estimator, X, y, cv=cv, n_jobs=n_jobs,\n",
    "                       train_sizes=train_sizes,\n",
    "                       return_times=True)\n",
    "    train_scores_mean = np.mean(train_scores, axis=1)\n",
    "    train_scores_std = np.std(train_scores, axis=1)\n",
    "    test_scores_mean = np.mean(test_scores, axis=1)\n",
    "    test_scores_std = np.std(test_scores, axis=1)\n",
    "    fit_times_mean = np.mean(fit_times, axis=1)\n",
    "    fit_times_std = np.std(fit_times, axis=1)\n",
    "\n",
    "    # Plot learning curve\n",
    "    axes[0].grid()\n",
    "    axes[0].fill_between(train_sizes, train_scores_mean - train_scores_std,\n",
    "                         train_scores_mean + train_scores_std, alpha=0.1,\n",
    "                         color=\"r\")\n",
    "    axes[0].fill_between(train_sizes, test_scores_mean - test_scores_std,\n",
    "                         test_scores_mean + test_scores_std, alpha=0.1,\n",
    "                         color=\"g\")\n",
    "    axes[0].plot(train_sizes, train_scores_mean, 'o-', color=\"r\",\n",
    "                 label=\"Training score\")\n",
    "    axes[0].plot(train_sizes, test_scores_mean, 'o-', color=\"g\",\n",
    "                 label=\"Cross-validation score\")\n",
    "    axes[0].legend(loc=\"best\")\n",
    "\n",
    "    # Plot n_samples vs fit_times\n",
    "    axes[1].grid()\n",
    "    axes[1].plot(train_sizes, fit_times_mean, 'o-')\n",
    "    axes[1].fill_between(train_sizes, fit_times_mean - fit_times_std,\n",
    "                         fit_times_mean + fit_times_std, alpha=0.1)\n",
    "    axes[1].set_xlabel(\"Training examples\")\n",
    "    axes[1].set_ylabel(\"fit_times\")\n",
    "    axes[1].set_title(\"Scalability of the model\")\n",
    "\n",
    "    # Plot fit_time vs score\n",
    "    axes[2].grid()\n",
    "    axes[2].plot(fit_times_mean, test_scores_mean, 'o-')\n",
    "    axes[2].fill_between(fit_times_mean, test_scores_mean - test_scores_std,\n",
    "                         test_scores_mean + test_scores_std, alpha=0.1)\n",
    "    axes[2].set_xlabel(\"fit_times\")\n",
    "    axes[2].set_ylabel(\"Score\")\n",
    "    axes[2].set_title(\"Performance of the model\")\n",
    "\n",
    "    return plt"
   ]
  },
  {
   "cell_type": "code",
   "execution_count": 14,
   "metadata": {},
   "outputs": [
    {
     "data": {
      "text/plain": [
       "<module 'matplotlib.pyplot' from '/Users/kevinwebb/Desktop/env/ds/lib/python3.7/site-packages/matplotlib/pyplot.py'>"
      ]
     },
     "execution_count": 14,
     "metadata": {},
     "output_type": "execute_result"
    },
    {
     "data": {
      "image/png": "[encoded data removed]",
      "text/plain": [
       "<Figure size 1440x360 with 3 Axes>"
      ]
     },
     "metadata": {
      "needs_background": "light"
     },
     "output_type": "display_data"
    }
   ],
   "source": [
    "X = df.cleaned_tweet.values\n",
    "Y = df.label.values\n",
    "plot_learning_curve(model, \"RF Learning Curve\", X, Y)"
   ]
  },
  {
   "cell_type": "markdown",
   "metadata": {},
   "source": [
    "Takeaways\n",
    "1. Training score (red line) is at its maximum regardless of training examples\n",
    "  - This shows severe overfitting\n",
    "2. Cross-validation score (green line) increases over time\n",
    "3. Small gap between cross-validation score and training score indicates low variance scenario\n",
    "  - Good complexity of the model or large amount of data"
   ]
  },
  {
   "cell_type": "code",
   "execution_count": 15,
   "metadata": {},
   "outputs": [
    {
     "name": "stdout",
     "output_type": "stream",
     "text": [
      "The Tweet 'I hate you' is a good tweet\n"
     ]
    }
   ],
   "source": [
    "query = \"I hate you\"\n",
    "\n",
    "if model.predict([query])[0] == '0':\n",
    "    print(\"The Tweet '{}' is a good tweet\".format(query))\n",
    "else:\n",
    "    print(\"The Tweet '{}' is a bad tweet\".format(query))"
   ]
  },
  {
   "cell_type": "markdown",
   "metadata": {},
   "source": [
    "# Methodology"
   ]
  },
  {
   "attachments": {},
   "cell_type": "markdown",
   "metadata": {},
   "source": [
    "### Data Preprocessing\n",
    "\n",
    "The ETL (Extraxct, Transform, Load) process done in ` process_data.py` consists of the following steps: \n",
    "1. The data is read from a json file\n",
    "2. The tweets and labels are separated into a DataFrame\n",
    "3. The  DataFrame is stored as a table titled “tweets” in a SQLalchemy database (.db file)\n",
    "\n",
    "There are also some preprocessing steps in ` train_classifier.py` which are done as part of the tokenization process: \n",
    "1. The input tweets are individually separated into a list of words\n",
    "2. Stop words, commonly used words (such as “the”, “a”, “an”, “in”), are removed from the word list\n",
    "3. Characters outside of a-z, A-Z, and 0-9 are removed"
   ]
  },
  {
   "attachments": {},
   "cell_type": "markdown",
   "metadata": {},
   "source": [
    "### Implementation\n",
    "\n",
    "The implementation process can be split into two main stages: \n",
    "1. The classifier training stage \n",
    "2. The application development stage \n",
    "\n",
    "The classifier training stage follows these steps in `train_classifier.py`: \n",
    "1. Load table ‘tweets’ from SQL database \n",
    "2. Separate the labels from the outputs and assign them to their individual variables \n",
    "3. Split data between train and test\n",
    "4. Train with the designated training data\n",
    "  - The model pipeline includes Bag of Words, TF-IDF, and Random Forest\n",
    "5. Log the accuracy and confusion matrix\n",
    "6. Save the trained model\n",
    "\n",
    "The application development stage follows these steps in `run.py`: \n",
    "1. Load the saved model and ‘tweets’ table from the SQL database \n",
    "2. Create graphs visualizing data analysis \n",
    "3. Pass data through to html file\n",
    "4. Run the Flask application with the command `python run.py`"
   ]
  },
  {
   "attachments": {},
   "cell_type": "markdown",
   "metadata": {},
   "source": [
    "### Refinement\n",
    "\n",
    "The combination of Bag of Words, TF-IDF, and Random Forest yielded a good accuracy score of 91%. As seen below, the confusion matrix demonstrates a good distribution between true positives and true negatives.\n",
    "\n",
    "```\n",
    "Confusion Matrix:\n",
    " [[2189  258]\n",
    " [  80 1474]]\n",
    "Accuracy: 0.91552111972007\n",
    "```\n",
    "\n",
    "GridSearchCV, an exhaustive search over specified parameter values for an estimator, was implemented with the following parameters\n",
    "\n",
    "```python\n",
    "parameters = {\n",
    "   'tfidf__smooth_idf':[True, False],\n",
    "    'vect__ngram_range': ((1, 1), (1, 2)),\n",
    "    'clf__n_estimators': [50, 100, 200],\n",
    "\n",
    "}\n",
    "\n",
    "cv = GridSearchCV(pipeline, param_grid=parameters, cv = 3)\n",
    "```\n",
    "\n",
    "The GridSearchCV yielded an accuracy score of 95% and produced the following:\n",
    "\n",
    "```\n",
    "Best parameters: {'clf__n_estimators': 200, 'tfidf__smooth_idf': False, 'vect__ngram_range': (1, 1)}\n",
    "\n",
    "Confusion Matrix:\n",
    " [[2380   82]\n",
    " [  93 1446]]\n",
    "Accuracy: 0.956260934766\n",
    "```\n",
    "\n",
    "The GridSearchCV is not implemented in the current code due to the time that it consumes to train. The code is shared above for reference."
   ]
  },
  {
   "cell_type": "markdown",
   "metadata": {},
   "source": [
    "# Conclusion\n",
    "\n",
    "The divide of data between good and bad is great, but after seeing that 'hate' and other bad words are shared between classified bad and good, the data is still skewed. The model was tested at the end of [Analysis](#Analysis) with a sentence with clear bad sentiment, but because of the skewed data (and other factors), the model predicted that the sentence has 'good' sentiment.\n",
    "\n",
    "Also, the model was overfitting as shown at the end of [Analysis](#Analysis). This may be due to a lack of complexity in the dataset. Two solutions are to add more data with more complexity and to tune the model's parameters.\n",
    "\n",
    "Below, you'll find different methods and solutions that may help in correctly classifying Tweets."
   ]
  },
  {
   "cell_type": "markdown",
   "metadata": {},
   "source": [
    "# Future Work\n",
    "\n",
    "- Implement analysis on live Tweets\n",
    "- Switch from classification to regression\n",
    "- Switch and / or add new dataset\n",
    "  - [sentiment140 dataset](https://www.kaggle.com/kazanova/sentiment140)\n",
    "- Use more libraries and tools\n",
    "  - textblob\n",
    "- Utilize Hashtags, Emoticons, and Emojis\n",
    "- Combat overfitting\n",
    "  - Tune model parameters\n",
    "    - Parameter: the number of features that are randomly chosen to grow each tree from the bootstrapped data\n",
    "    - Parameter: 𝑘-fold cross-validation\n",
    "    - nodesize - minimum size of terminal nodes\n",
    "    - maxnodes - maximum number of terminal nodes\n",
    "    - mtry - number of variables used to build each tree\n",
    "- Correct imbalanced dataset\n",
    "  - oversample\n",
    "  - [SMOTE](https://machinelearningmastery.com/smote-oversampling-for-imbalanced-classification/)\n",
    "- Diverge from Udacity HTML template"
   ]
  },
  {
   "cell_type": "code",
   "execution_count": 16,
   "metadata": {},
   "outputs": [],
   "source": [
    "import os\n",
    "from tweepy import Stream, OAuthHandler, API\n",
    "from tweepy.streaming import StreamListener\n",
    "import json\n",
    "import pandas as pd\n",
    "import csv\n",
    "import re"
   ]
  },
  {
   "cell_type": "code",
   "execution_count": 17,
   "metadata": {},
   "outputs": [],
   "source": [
    "#Twitter credentials for the app\n",
    "consumer_key = os.environ['twitter_consumer_key']\n",
    "consumer_secret = os.environ['twitter_consumer_secret']\n",
    "access_key= os.environ['twitter_access_key']\n",
    "access_secret = os.environ['twitter_access_secret']"
   ]
  },
  {
   "cell_type": "code",
   "execution_count": 18,
   "metadata": {},
   "outputs": [],
   "source": [
    "#pass twitter credentials to tweepy\n",
    "auth = OAuthHandler(consumer_key, consumer_secret)\n",
    "auth.set_access_token(access_key, access_secret)\n",
    "api = API(auth)"
   ]
  },
  {
   "cell_type": "code",
   "execution_count": 19,
   "metadata": {},
   "outputs": [],
   "source": [
    "#HappyEmoticons\n",
    "emoticons_happy = set([\n",
    "    ':-)', ':)', ';)', ':o)', ':]', ':3', ':c)', ':>', '=]', '8)', '=)', ':}',\n",
    "    ':^)', ':-D', ':D', '8-D', '8D', 'x-D', 'xD', 'X-D', 'XD', '=-D', '=D',\n",
    "    '=-3', '=3', ':-))', \":'-)\", \":')\", ':*', ':^*', '>:P', ':-P', ':P', 'X-P',\n",
    "    'x-p', 'xp', 'XP', ':-p', ':p', '=p', ':-b', ':b', '>:)', '>;)', '>:-)',\n",
    "    '<3'\n",
    "    ])"
   ]
  },
  {
   "cell_type": "code",
   "execution_count": 20,
   "metadata": {},
   "outputs": [],
   "source": [
    "# Sad Emoticons\n",
    "emoticons_sad = set([\n",
    "    ':L', ':-/', '>:/', ':S', '>:[', ':@', ':-(', ':[', ':-||', '=L', ':<',\n",
    "    ':-[', ':-<', '=\\\\', '=/', '>:(', ':(', '>.<', \":'-(\", \":'(\", ':\\\\', ':-c',\n",
    "    ':c', ':{', '>:\\\\', ';('\n",
    "    ])"
   ]
  },
  {
   "cell_type": "code",
   "execution_count": 21,
   "metadata": {},
   "outputs": [],
   "source": [
    "timeline = api.user_timeline(user_id=\"realDonaldTrump\", count=200)"
   ]
  },
  {
   "cell_type": "code",
   "execution_count": 22,
   "metadata": {},
   "outputs": [
    {
     "name": "stdout",
     "output_type": "stream",
     "text": [
      "https://t.co/61KbAnpncb\n",
      "Hey Google! Where's my shirt? 😁\n",
      "#GCP #GoogleCloud @GCPcloud https://t.co/y8s4UhkT5m \n",
      "\n",
      "#ATTLIVE17 amazing things happen here https://t.co/21TovQK4Ub \n",
      "\n",
      "#ATTLIVE17 caught in the act https://t.co/VEcGwbbOoC \n",
      "\n",
      "#ATTLIVE17 morning views https://t.co/dcf6Q5N1wX \n",
      "\n",
      "@DTgolfstar @CauseWereGuys better goalie than I'll ever be. It should be Central's goalkeeper coach 👀 \n",
      "\n",
      "RT @bayer04fussball: #Chicharito kommt von @ManUtd und unterschreibt bei der #Werkself bis 2018 || @CH14_ joins #Bayer04 until 2018! http:/… \n",
      "\n",
      "@destiny_belle getting there at 11 vs getting a decent parking spot. Your choice 😆 \n",
      "\n",
      "@destiny_belle get there earlier \n",
      "\n",
      "RT @Lambdas1975: Congratulations to Delta Zeta Chapter (University of West Georgia) for earning the highest fraternity chapter GPA... http:… \n",
      "\n",
      "@Andy_Hartsfield you forgot #kevinislame gosh! \n",
      "\n",
      "@VivaDat_Stud how you should feel http://t.co/G5Z5GMpq4z \n",
      "\n",
      "@destiny_belle so... is this confirmation to do it? Or nah? \n",
      "\n",
      "@destiny_belle demand a year's worth of McNuggets!! \n",
      "\n",
      "RT @Lambdas1975: Brothers from the University of West Georgia (Delta Zeta Chapter) improving the community on Stripling Chapel... http://t.… \n",
      "\n",
      "End of the Ninja Skillz Saga https://t.co/Ae6u3okjIA \n",
      "\n"
     ]
    }
   ],
   "source": [
    "for what in timeline:\n",
    "    print(what.text, \"\\n\")"
   ]
  },
  {
   "cell_type": "code",
   "execution_count": 23,
   "metadata": {},
   "outputs": [],
   "source": [
    "search = api.search(q=\"Trump\", tweet_mode = 'extended', lang=\"en\", rpp=5)"
   ]
  },
  {
   "cell_type": "code",
   "execution_count": 24,
   "metadata": {},
   "outputs": [
    {
     "name": "stdout",
     "output_type": "stream",
     "text": [
      "RT @AndrewBatesNC: This is the President of the United States. For at least until next January. https://t.co/mAMjINFbdp https://t.co/IIKlmD… \n",
      "---------------------------\n",
      "\n",
      "Just-the-flu mindset has many strains of mutation within the same theme: \n",
      "\n",
      "Always Trump\n",
      "Freedom or die\n",
      "If I get Corona I get Corona\n",
      "CCP kills (US doesn't)\n",
      "No vax (I hide behind the vaxxers)\n",
      "Small Gov (let the States compete and kill each other for PPEs) \n",
      "Religious (science out!) \n",
      "---------------------------\n",
      "\n",
      "RT @nytimes: President Trump was slow to absorb the scale of the risk the coronavirus pandemic posed to the U.S. and to act accordingly, ou… \n",
      "---------------------------\n",
      "\n",
      "RT @realDonaldTrump: “Trump did a deal with Japan. A lot of our product goes to Japan, and we are booming in North Dakota.” Jim on C Span,… \n",
      "---------------------------\n",
      "\n",
      "@Logic_Triumphs @joncoopertweets He does.  Probably cause Coronavirus is afraid of catching Trump!  😡😱 #COVFEFE19 \n",
      "---------------------------\n",
      "\n",
      "RT @JYSexton: Donald Trump wasn’t elected to govern or solve problems.\n",
      "\n",
      "He is president to destroy government functions while presenting th… \n",
      "---------------------------\n",
      "\n",
      "RT @BoycottUtah: It is Sunday, April 12, 2020. One citizen, I call for the removal from office by any legal means, the impeached fascist Do… \n",
      "---------------------------\n",
      "\n",
      "RT @fawfulfan: Cruise Industry:\n",
      "-Registered in foreign ports\n",
      "-Pays no taxes, obeys no U.S. laws\n",
      "-Not essential to our country\n",
      "\n",
      "USPS:\n",
      "-Ameri… \n",
      "---------------------------\n",
      "\n",
      "RT @AltNews: India Today News Director Rahul Kanwal claimed that President Trump suggested early access of coronavirus vaccine to India in… \n",
      "---------------------------\n",
      "\n",
      "RT @Amy_Siskind: I don’t know how Trump doesn’t end up in prison after this! \n",
      "---------------------------\n",
      "\n",
      "RT @ConnieSchultz: This deeply reported story leaves no doubt. The president’s willful ineptitude has cost countless American lives. https:… \n",
      "---------------------------\n",
      "\n",
      "RT @TeaPainUSA: These \"Red Dawn\" emails may turn out to be the Watergate Tapes of the Trump COVID-19 fiasco.\n",
      "\n",
      "https://t.co/Em3ryIdmHV \n",
      "---------------------------\n",
      "\n",
      "@hypergeekstwin Oh, don't worry. Trump will sell it to his private sector buddies so they can charge double to send it to you---after he buys stock to insure he gets his cut, of course. Meanwhile, you'll have a harder time voting in November, so golly gee, guess he gets another term. \n",
      "---------------------------\n",
      "\n",
      "@sckarr1 @TonyTattles Why can’t Bloomberg and Styer buy a billion $ worth of stamps each to make the USPS solvent..... and fuck Trump and the Repunlicans efforts to kill the P.O.\n",
      "\n",
      "Please RT this like hell!\n",
      "@MikeBloomberg \n",
      "@TomSteyer https://t.co/sZVgsyQikv \n",
      "---------------------------\n",
      "\n",
      "RT @tandon4congress: President Trump, need your help and attention. Human kind is suffering in Pakistan and we need to end this torture of… \n",
      "---------------------------\n",
      "\n"
     ]
    }
   ],
   "source": [
    "for tweet in search:\n",
    "    print(tweet.full_text, \"\\n---------------------------\\n\")"
   ]
  },
  {
   "cell_type": "code",
   "execution_count": 25,
   "metadata": {},
   "outputs": [],
   "source": [
    "search = api.search(q=\"Alexandria Ocasio-Cortez\", lang=\"en\", tweet_mode = 'extended', include_rts=False, rpp=5)"
   ]
  },
  {
   "cell_type": "code",
   "execution_count": 26,
   "metadata": {},
   "outputs": [
    {
     "name": "stdout",
     "output_type": "stream",
     "text": [
      "False\n",
      "RT @AnnaApp91838450: Hard At Work:Alexandria Cortez Guest Judges ‘RuPaul‘s Drag Race‘ https://t.co/oc0KD8j4al  @BreitbartNews\n",
      " Why WriteThi…\n",
      "\n",
      "---------\n",
      "\n",
      "False\n",
      "RT @TaxReformExpert: Alexandria Ocasio-Cortez is blaming 17 million Americans losing their jobs on capitalism.\n",
      "\n",
      "How did capitalism cause th…\n",
      "\n",
      "---------\n",
      "\n",
      "False\n",
      "AOC Made Every Queen’s Dream Come True — &amp; Spilled The Real Tea — On Drag Race #SmartNews  https://t.co/F2qJU3jLEr\n",
      "\n",
      "---------\n",
      "\n",
      "False\n",
      "RT @TaxReformExpert: Alexandria Ocasio-Cortez is blaming 17 million Americans losing their jobs on capitalism.\n",
      "\n",
      "How did capitalism cause th…\n",
      "\n",
      "---------\n",
      "\n",
      "False\n",
      "RT @TaxReformExpert: Alexandria Ocasio-Cortez is blaming 17 million Americans losing their jobs on capitalism.\n",
      "\n",
      "How did capitalism cause th…\n",
      "\n",
      "---------\n",
      "\n",
      "False\n",
      "ATTEND Alexandria Ocasio-Cortez for Congress’s event, “Phone Bank Thursday to Tuesday  from 5PM -8PM (click to see details)” – sign up now!  https://t.co/e1HJtd53lZ\n",
      "\n",
      "---------\n",
      "\n",
      "False\n",
      "RT @TaxReformExpert: Alexandria Ocasio-Cortez is blaming 17 million Americans losing their jobs on capitalism.\n",
      "\n",
      "How did capitalism cause th…\n",
      "\n",
      "---------\n",
      "\n",
      "False\n",
      "ATTEND Alexandria Ocasio-Cortez for Congress’s event, “Phone Bank Monday to Sunday  from 11AM -1PM (click to see details)” – sign up now!  https://t.co/s8KOy9OfRY\n",
      "\n",
      "---------\n",
      "\n",
      "False\n",
      "RT @415holgate: Alexandria Ocasio-Cortez to co-sponsor House bill banning members of Congress from trading stocks https://t.co/9oox6uibUM\n",
      "\n",
      "---------\n",
      "\n",
      "False\n",
      "RT @TaxReformExpert: Alexandria Ocasio-Cortez is blaming 17 million Americans losing their jobs on capitalism.\n",
      "\n",
      "How did capitalism cause th…\n",
      "\n",
      "---------\n",
      "\n",
      "False\n",
      "@landon_tapscott @ComicsNerdX @Lol_0fficial @Tamaralynn212 No, trending blue as in trending blue, progressivism is something totally different (see: Alexandria Ocasio-Cortez). Britain still has a socialist system, they just left the EU. Even countries you'd see as leaning right are still far left of us.\n",
      "\n",
      "---------\n",
      "\n",
      "False\n",
      "RT @TaxReformExpert: Alexandria Ocasio-Cortez is blaming 17 million Americans losing their jobs on capitalism.\n",
      "\n",
      "How did capitalism cause th…\n",
      "\n",
      "---------\n",
      "\n",
      "False\n",
      "RT @BreitbartNews: AOC is doing the heavy lifting of history. https://t.co/WHWllzSdtM\n",
      "\n",
      "---------\n",
      "\n",
      "False\n",
      "The winner of this week’s episode is Rep. Alexandria Ocasio-Cortez\n",
      "\n",
      "---------\n",
      "\n",
      "False\n",
      "RT @415holgate: Alexandria Ocasio-Cortez to co-sponsor House bill banning members of Congress from trading stocks https://t.co/9oox6uibUM\n",
      "\n",
      "---------\n",
      "\n"
     ]
    }
   ],
   "source": [
    "for tweet in search:\n",
    "    print(tweet.truncated)\n",
    "    print(tweet.full_text)\n",
    "    print(\"\\n---------\\n\")"
   ]
  },
  {
   "cell_type": "markdown",
   "metadata": {},
   "source": [
    "# Guides\n",
    "\n",
    "https://towardsdatascience.com/extracting-twitter-data-pre-processing-and-sentiment-analysis-using-python-3-0-7192bd8b47cf\n",
    "\n",
    "https://towardsdatascience.com/tweepy-for-beginners-24baf21f2c25"
   ]
  },
  {
   "cell_type": "markdown",
   "metadata": {},
   "source": [
    "# Notes\n",
    "\n",
    "### [intellipaat](https://intellipaat.com/community/9495/how-do-i-solve-overfitting-in-random-forest-of-python-sklearn)\n",
    "There are some parameters of random forest that can be tuned for the model’s better performance.\n",
    "\n",
    "- n_estimators: The more trees, the less likely the algorithm is to overfit. So try increasing this parameter. The lower this number, the closer the model is to a decision tree, with a restricted feature set.\n",
    "- max_features: You should try reducing this number. This defines how many features each tree is randomly assigned. \n",
    "- max_depth: This parameter will reduce the complexity of the learned models, lowering over fitting risk. \n",
    "- min_samples_leaf: Try setting these values greater than one. This has a similar effect to the max_depth parameter, it means the branch will stop splitting once the leaves have that number of samples each."
   ]
  },
  {
   "cell_type": "code",
   "execution_count": null,
   "metadata": {},
   "outputs": [],
   "source": []
  }
 ],
 "metadata": {
  "kernelspec": {
   "display_name": "Python 3",
   "language": "python",
   "name": "python3"
  },
  "language_info": {
   "codemirror_mode": {
    "name": "ipython",
    "version": 3
   },
   "file_extension": ".py",
   "mimetype": "text/x-python",
   "name": "python",
   "nbconvert_exporter": "python",
   "pygments_lexer": "ipython3",
   "version": "3.7.6"
  }
 },
 "nbformat": 4,
 "nbformat_minor": 4
}
